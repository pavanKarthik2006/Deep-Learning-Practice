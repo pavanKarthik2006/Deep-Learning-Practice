{
  "nbformat": 4,
  "nbformat_minor": 0,
  "metadata": {
    "colab": {
      "provenance": [],
      "authorship_tag": "ABX9TyO8oq8OhpxPllL1MCilNJ6o",
      "include_colab_link": true
    },
    "kernelspec": {
      "name": "python3",
      "display_name": "Python 3"
    },
    "language_info": {
      "name": "python"
    }
  },
  "cells": [
    {
      "cell_type": "markdown",
      "metadata": {
        "id": "view-in-github",
        "colab_type": "text"
      },
      "source": [
        "<a href=\"https://colab.research.google.com/github/pavanKarthik2006/Deep-Learning-Practice/blob/main/Feed_Forward_Neural_Network_and_BackPropagation.ipynb\" target=\"_parent\"><img src=\"https://colab.research.google.com/assets/colab-badge.svg\" alt=\"Open In Colab\"/></a>"
      ]
    },
    {
      "cell_type": "code",
      "execution_count": 5,
      "metadata": {
        "id": "gahAIuhcLr7U"
      },
      "outputs": [],
      "source": [
        "import numpy as np\n",
        "\n",
        "class NeuralNetwork:\n",
        "  def __init__(self, input_size, hidden_size, output_size):\n",
        "    self.input_size=input_size\n",
        "    self.hidden_size=hidden_size\n",
        "    self.output_size=output_size\n",
        "\n",
        "    self.weights_input_hidden=np.random.randn(self.input_size,self.hidden_size)\n",
        "    self.weights_hidden_output=np.random.randn(self.hidden_size,self.output_size)\n",
        "\n",
        "    self.bias_hidden=np.zeros((1,self.hidden_size))\n",
        "    self.bias_output=np.zeros((1,self.output_size))\n",
        "\n",
        "  def sigmoid(self,X):\n",
        "    return 1/(1+np.exp(-X))\n",
        "\n",
        "  def sigmoid_derivative(self,X):\n",
        "    return X*(1-X)\n",
        "\n",
        "  def feedforward(self,X):\n",
        "    self.hidden_activation=np.dot(X,self.weights_input_hidden)+self.bias_hidden\n",
        "    self.hidden_output=self.sigmoid(self.hidden_activation)\n",
        "\n",
        "    self.output_activation=np.dot(self.hidden_output,self.weights_hidden_output)+self.bias_output\n",
        "    self.predicted_output=self.sigmoid(self.output_activation)\n",
        "\n",
        "    return self.predicted_output\n",
        "\n",
        "  def backward(self,X,y,learning_rate):\n",
        "    output_error=y-self.predicted_output\n",
        "    output_delta=output_error*self.sigmoid_derivative(self.predicted_output)\n",
        "\n",
        "    hidden_error=np.dot(output_delta,self.weights_hidden_output.T)\n",
        "    hidden_delta=hidden_error*self.sigmoid_derivative(self.hidden_output)\n",
        "\n",
        "    self.weights_hidden_output+= np.dot(self.hidden_output.T,output_delta)*learning_rate\n",
        "    self.bias_output += np.sum(output_delta,axis=0,keepdims=True)*learning_rate\n",
        "\n",
        "    self.weights_input_hidden += np.dot(X.T,hidden_delta)*learning_rate\n",
        "    self.bias_hidden += np.sum(hidden_delta,axis=0,keepdims=True)*learning_rate\n",
        "\n",
        "  def train(self,X,y,epochs,learning_rate):\n",
        "    for epoch in range(epochs):\n",
        "      output=self.feedforward(X)\n",
        "      self.backword(X,y,learning_rate)\n",
        "\n",
        "      if epoch%4000 ==0:\n",
        "        loss=np.mean(np.square(y-output))\n",
        "        print(f\"Epoch {epoch},loss:{loss}\")\n"
      ]
    },
    {
      "cell_type": "code",
      "source": [
        "\n"
      ],
      "metadata": {
        "id": "6XExDCikSseY"
      },
      "execution_count": null,
      "outputs": []
    }
  ]
}